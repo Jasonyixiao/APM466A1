{
 "cells": [
  {
   "cell_type": "code",
   "execution_count": 4,
   "metadata": {},
   "outputs": [
    {
     "name": "stderr",
     "output_type": "stream",
     "text": [
      "/Library/Frameworks/Python.framework/Versions/3.10/lib/python3.10/site-packages/bond_pricing/simple_bonds.py:529: UserWarning: Module isda_daycounters is not installed.\n",
      "Only 'simple' daycount (basically ACT/365) is available.\n",
      "To use other daycounts, install isda_daycounters from\n",
      "https://github.com/miradulo/isda_daycounters\n",
      "  warn(\"Module isda_daycounters is not installed.\\n\"\n"
     ]
    }
   ],
   "source": [
    "import pandas as pd\n",
    "import numpy as np\n",
    "import matplotlib.pyplot as plt\n",
    "# import bond_pricing \n",
    "import bond_pricing as bp"
   ]
  }
 ],
 "metadata": {
  "kernelspec": {
   "display_name": "Python 3",
   "language": "python",
   "name": "python3"
  },
  "language_info": {
   "codemirror_mode": {
    "name": "ipython",
    "version": 3
   },
   "file_extension": ".py",
   "mimetype": "text/x-python",
   "name": "python",
   "nbconvert_exporter": "python",
   "pygments_lexer": "ipython3",
   "version": "3.10.1"
  }
 },
 "nbformat": 4,
 "nbformat_minor": 2
}
